#{
 "cells": [
  {
   "cell_type": "code",
   "execution_count": 1,
   "metadata": {
    "collapsed": false
   },
   "outputs": [],
   "source": [
    "import scipy as sc\n",
    "import pandas as pnd\n",
    "\n",
    "from nltk.tokenize import RegexpTokenizer\n",
    "from stop_words import get_stop_words\n",
    "from nltk.stem.porter import PorterStemmer\n"
   ]
  },
  {
   "cell_type": "code",
   "execution_count": 18,
   "metadata": {
    "collapsed": true
   },
   "outputs": [],
   "source": [
    "#inits\n",
    "tokenizer = RegexpTokenizer(r'\\w+')\n",
    "p_stemmer = PorterStemmer()"
   ]
  },
  {
   "cell_type": "code",
   "execution_count": 19,
   "metadata": {
    "collapsed": true
   },
   "outputs": [],
   "source": [
    "#people = pnd.read_csv('filtered.csv',header=0,index_col=False)\n",
    "#people = pnd.read_csv('60_lines_after_kernel_EOBT.csv',header=0,index_col=False)\n",
    "people = pnd.read_csv('100_lines_after_and_before_EOBT.csv',header=0,index_col=False)\n"
   ]
  },
  {
   "cell_type": "code",
   "execution_count": 4,
   "metadata": {
    "collapsed": false
   },
   "outputs": [],
   "source": [
    "#people.head()"
   ]
  },
  {
   "cell_type": "code",
   "execution_count": 20,
   "metadata": {
    "collapsed": false
   },
   "outputs": [],
   "source": [
    "\n",
    "import re\n",
    "people['text'] = people['text'].map(lambda words: re.sub(r'\\w*\\d\\w*', '', str(words)).strip())\n"
   ]
  },
  {
   "cell_type": "code",
   "execution_count": 21,
   "metadata": {
    "collapsed": false
   },
   "outputs": [],
   "source": [
    "#people.head()"
   ]
  },
  {
   "cell_type": "code",
   "execution_count": 22,
   "metadata": {
    "collapsed": false
   },
   "outputs": [],
   "source": [
    "# creating cleaner dataframe\n",
    "#my_df['text'] = people['text'][0:500].map(lambda x : documentCleaner(x))\n",
    "#my_df['text'] = people['text'].map(lambda x : documentCleaner(x))\n"
   ]
  },
  {
   "cell_type": "code",
   "execution_count": 8,
   "metadata": {
    "collapsed": false
   },
   "outputs": [],
   "source": [
    "#print my_df['text'][1]"
   ]
  },
  {
   "cell_type": "code",
   "execution_count": 9,
   "metadata": {
    "collapsed": false
   },
   "outputs": [],
   "source": [
    "#my_df['tf-idf'][0]"
   ]
  },
  {
   "cell_type": "code",
   "execution_count": 23,
   "metadata": {
    "collapsed": false
   },
   "outputs": [],
   "source": [
    "from sklearn.feature_extraction.text import TfidfVectorizer\n",
    "\n",
    "tfidfModel = TfidfVectorizer(min_df=1,tokenizer=None,stop_words=\"english\")\n",
    "\n",
    "#print people['text'][13]\n",
    "X = tfidfModel.fit_transform(people['text'])"
   ]
  },
  {
   "cell_type": "code",
   "execution_count": 11,
   "metadata": {
    "collapsed": false
   },
   "outputs": [
    {
     "name": "stdout",
     "output_type": "stream",
     "text": [
      "168\n",
      "(168, 2292)\n",
      "[u'_tcp', u'_tivo', u'ab', u'abhi', u'aborted', u'acancel', u'access', u'accounting', u'ack', u'acknowledged', u'acknowledging', u'acquire', u'acquireoutput', u'acquiresinkdevice', u'acqusition', u'action', u'active', u'activity', u'ad', u'add', u'adding', u'additional', u'addlivefile', u'addr', u'address', u'adminer', u'aes', u'afmt', u'alert', u'alignment', u'allocate', u'allocated', u'allocation', u'allowed', u'althighmode', u'analog', u'analogservice', u'ane', u'anon', u'anonpages', u'anr', u'api', u'apid', u'app', u'app_starting', u'appact', u'appcontroller', u'applib', u'application', u'applicationfeaturearea', u'applicationname', u'applicationsessionid', u'applicationversion', u'applied', u'areacodechore', u'arena', u'argonchangesfrombugs', u'args', u'arm', u'arm_mrs', u'assemble', u'assert', u'assertion', u'assets', u'associated', u'assumed', u'astime', u'ata', u'atlas', u'atlas_settings', u'attached', u'attachproxyforoutput', u'attempting', u'audio', u'audioptserror', u'audiorequeststc', u'aug', u'auto', u'autodoc', u'automatically', u'automaticreportgenerator', u'available', u'backbuffer', u'backcolor', u'background', u'backtrace', u'backtraces', u'backup', u'backuplaptop', u'bad', u'badva', u'bang', u'barrier', u'base', u'basecontext', u'basepcrm', u'basestreamtimem', u'bcmemac', u'bdl', u'begin', u'berr_invalid_parameter', u'berr_not_available', u'bhdm', u'big', u'bin', u'binary', u'bind', u'bits', u'black', u'blackjack', u'blacksink', u'blob', u'block', u'blocks', u'blocksize', u'blowfish', u'bmdma', u'bmem', u'board', u'boardid', u'boarding', u'bod_trace', u'bodymiddlemindinfoget', u'boosted', u'boot', u'boot_device', u'bootconsole', u'booting', u'bootloader', u'bounce', u'bound', u'bounds', u'box', u'bpcrlib', u'bpp', u'branches', u'brap_setstcvalidflag_isr', u'bravo', u'bravoapp', u'brcm', u'brcmgenet', u'breakpoint', u'bridge', u'broadcast', u'broadcom', u'brought', u'browser', u'browserlibexpat', u'browserlibfontconfig', u'browserlibfreetype', u'browserlibomi', u'browserlibuva', u'browserlibwdkchannel', u'browserlibwdkcore', u'browserlibwdklocalsystem', u'browserlibwdkmediaclient', u'bsi', u'bsiack', u'bt', u'bt_all_thread', u'btangoshnew', u'buffer', u'bufferedstream', u'buffers', u'bug', u'bugs', u'build', u'built', u'bundle', u'bus', u'business', u'buttontype', u'bva', u'bvdc_win', u'byte', u'bytes', u'bytesmax', u'c_tmlint', u'cablecardassoc', u'cablecardinfo', u'cache', u'cached', u'cachekey', u'caching', u'calibrated', u'called', u'calling', u'callme', u'calltypeis', u'cancel', u'cancelifappropriatenoretry', u'canceling', u'cancelled', u'cancelrecordingnoretry', u'candidate', u'candidates', u'candy', u'candybar', u'candybarget', u'candybucketsearch', u'cap', u'caption', u'caption_off', u'category', u'categoryutil', u'cause', u'caused', u'cbc', u'cbg', u'cc', u'ccdecoder', u'ccollab', u'ccreader', u'cdb', u'cde', u'cds', u'centos', u'central', u'cert', u'certs', u'cfe', u'cfg', u'cgi', u'cgms', u'chain', u'chandrashekar', u'change', u'changeanalysis', u'changed', u'changelist', u'changing', u'channel', u'channelsourceid', u'channelstream', u'char', u'character', u'cheats', u'check', u'checkcontentplayability', u'checked', u'checkfilelist', u'checking', u'checkparentalcontrolspinrequest', u'checkparentalcontrolspinresponse', u'checkpointcount', u'checkstagingmode', u'child', u'chips', u'chipset', u'chksum', u'chuck', u'chunk', u'chunkbytes', u'chunks', u'ckatta', u'ckatta_changes', u'ckatta_ism', u'classic', u'classicui', u'classicuiglue', u'clean', u'clean_logs', u'cleanedargonchangesfrombugs', u'cleanup', u'cleanupandmountdb', u'clearkey', u'clearsetupcontext', u'client', u'clip', u'clipping', u'clips', u'clock', u'close', u'close_crypto_dont_reset', u'closed', u'closesession', u'closing', u'cmd', u'cmdline', u'cmdproc', u'code', u'collection', u'collectiontype', u'com', u'comes', u'command', u'commglobals', u'commit', u'commitlimit', u'committed_as', u'common', u'compare', u'complete', u'completed', u'compositor', u'compression', u'computetransferdata', u'conditional', u'conf', u'config', u'config_demo', u'config_mr', u'configuration', u'configurecaptionpreferences', u'configured', u'configuring', u'conflict', u'connect', u'connected', u'connecting', u'connection', u'connections', u'connector', u'console', u'const', u'construction', u'constructor', u'content', u'contentions', u'contents', u'context', u'contextmanageractivity', u'contigmem', u'contigmem_top', u'contiguous', u'control', u'controller', u'copy_protect', u'copyback', u'corpfs', u'correct', u'corrupted', u'corruption', u'count', u'countm', u'counts', u'cp', u'cpio', u'cpp', u'cpu', u'cpus', u'cr', u'crash', u'crash_', u'crash_file_', u'crash_rate', u'crashquery', u'crc', u'create', u'create_tcp_socket', u'created', u'createscreen', u'createsurfacelocked', u'createtask', u'creating', u'creation', u'cript', u'critical', u'crypto', u'cryptographic', u'csr', u'csramp', u'csv', u'ctl', u'cur', u'curl', u'current', u'currentrec', u'cydoc_picaso', u'cydoc_tmli', u'cyimp_harm', u'daemon', u'dat', u'data', u'database_config', u'datasourcem', u'dateofchangegnair', u'day', u'days', u'db', u'dbd', u'dbg', u'dbgcbackgroundaction', u'dbguideviewcachechore', u'dccengine_init', u'dccengine_reset', u'dead', u'deadbeef', u'deadline', u'deadlocked', u'debug', u'debugassertcase', u'debugassertrunninginactivity', u'debugassertsdisabled', u'debugger', u'debugstring', u'decodesecureblob', u'decryptor', u'default', u'defaulthostid', u'defined', u'defineenum', u'deflate', u'del', u'delay', u'deleted', u'deleveryreviewemails', u'delta', u'deltas', u'demand', u'demologs', u'demomenumailfrommarketing', u'dentry', u'depth', u'desc', u'descriptor', u'deserialize', u'desktop', u'destination', u'destinationbodyid', u'destroy', u'destroyed', u'detected', u'determined', u'dev', u'device', u'dhclient', u'dhcpdiscover', u'dhcpoffer', u'dhcprequest', u'dia', u'didn', u'died', u'digital', u'digitalservice', u'din_temp', u'dinesh', u'dir', u'directfb', u'dirty', u'disableclosedcaption', u'disabled', u'disableteleport', u'disabling', u'discontig', u'discontinuity', u'disk', u'diskmanager', u'disks', u'dispatching', u'dispatchoneevent', u'display', u'displayarea', u'displaysettings', u'dma', u'dns', u'dnsstatelistenactivity', u'do_page_fault', u'doc', u'docsis', u'documents', u'does', u'doshutdown', u'dot', u'dotransition', u'download_multiple_logs', u'downloading', u'downloads', u'driver', u'drivers', u'drmdecryptershutdown', u'dropping', u'ds', u'dsk', u'dso', u'dsscon', u'dummy', u'dump', u'dumpchunkstate', u'dumped', u'dumping', u'dumpmempoolandcrashlocked', u'duplex', u'dur', u'dvr', u'dwhelper', u'dynerrordatalogging', u'dynhlsmediacontrolprovider', u'dynsspkmediacontrolprovider', u'dyntvffmpegpluginmediacontrolprovider', u'dynvirginlogging', u'dynwvmediacontrolprovider', u'early', u'ebi_war', u'eclipse', u'ecmpid', u'edk', u'eia', u'eir', u'elapsed', u'elements', u'embedded', u'emergency', u'emergencyallocations', u'enableclosedcaption', u'enabled', u'enabling', u'encoded', u'encore', u'encrypt', u'encryption', u'end', u'end_of_bt', u'endop', u'endusermessageeventregister', u'endusermessageremove', u'enet', u'engine', u'engineinit', u'enginetype', u'enter', u'entered', u'entering', u'entries', u'entry', u'env', u'eof', u'epc', u'err', u'errcode', u'errno', u'error', u'errors', u'errs', u'es', u'escape', u'esential', u'established', u'estate', u'ethernet', u'ets', u'evaluateexpression', u'event', u'event_suspend', u'evt_content_advisory', u'evt_sink_session', u'ex', u'examples', u'executeaction', u'executepreparedstatement', u'executing', u'execution', u'existing', u'exit', u'exited', u'exitscreen', u'exitscreenack', u'exl', u'exp', u'expected', u'expression', u'extension', u'extensions', u'external', u'extra', u'facerrordata', u'facility', u'factive', u'failed', u'fails', u'failure', u'fallback', u'false', u'family', u'fan', u'fancontrol', u'far', u'fastpath', u'fatal', u'fatswitch', u'fault', u'fblack', u'fblackvideo', u'fcallagain', u'fcaptionenabledm', u'fd', u'feature', u'featurematrix', u'feb', u'feed', u'fetching', u'ffffffff', u'fforward', u'fhaveoutputm', u'fhavesinkdevicem', u'field', u'fifo', u'file', u'fileread_gov', u'files', u'filesystem', u'filtered', u'final', u'final_annotator', u'finish', u'finished', u'finite', u'firstpts', u'firsttime', u'fixing', u'fl', u'flags', u'flash', u'flashapp', u'flashhost', u'flashinstance', u'flashplayer', u'floating', u'flush', u'flushed', u'flushing', u'fmt', u'fmuteaudio', u'focus', u'focused', u'folder', u'following', u'fontsize', u'fontstyle', u'for_crashalls', u'force', u'forcing', u'format', u'formats', u'fpu', u'fragment', u'fragments', u'free', u'freechunkbytes', u'freechunks', u'freed', u'freeing', u'freeze', u'friendlyname', u'fromjsonstring', u'fs', u'fsid', u'fsm', u'fsm_host_stack', u'fstartedm', u'future', u'ganesh', u'gathered', u'gathering', u'gaurav', u'gbps', u'gcc', u'gek', u'generic', u'getactualblocksizelocked', u'getbufferingmempool', u'getchunkwithlogging', u'getcurrent', u'getdata', u'getdatasource', u'getlistofkeys', u'getnextwaitingthreadlocked', u'getnpkeventfailed', u'getting', u'gf', u'gj', u'global', u'gnairdec', u'going', u'got', u'graphics', u'graphicscompositorclientserver', u'graphicscompositormempoolholder', u'group', u'grouping', u'gst', u'gst_plugins', u'gstreamer', u'gz', u'gzip', u'half', u'handle', u'handleaeslanipaddresstimerevent', u'handled', u'handlelanipaddressresponseevent', u'handlelivedecoderequest', u'handleplaybackrequest', u'handlepreferencechanges', u'handler', u'handleresponse', u'handlesourcequeryrequest', u'har', u'hard', u'hardcoded', u'hardwareplatform', u'harmony', u'hascollectiontype', u'hascontentid', u'hash', u'haxe', u'haxeapps', u'haxehost', u'hd', u'hdmi', u'hdone', u'hdtv', u'headers', u'healthstat', u'heap', u'heartbeat', u'height', u'hi', u'high', u'highest', u'highfree', u'highgraphics', u'highmem', u'hightotal', u'hm_dsc', u'homepage', u'honor', u'hop', u'hornet', u'host', u'hostlib', u'hotel', u'hotplug', u'hpk', u'hpk_boolean', u'hpk_graphics', u'hpk_tsoutputpcmplayer', u'hpkgfxmempoolholder', u'hpkimpl', u'hpkitype', u'hpkstype', u'hpnx', u'html', u'http', u'httpd', u'https', u'hub', u'hudson', u'huxley', u'huxleynavigationservice', u'huxleynavstack', u'hw', u'hx', u'hydra', u'id', u'iddp', u'idirectfbfont', u'idirectfbimageprovider', u'idle', u'idletuner', u'ignored', u'ignores', u'ignoring', u'illegal', u'image', u'imagedata', u'images', u'imp', u'implementation_other', u'inactive', u'inband', u'incr', u'index', u'indexing', u'indicator', u'inf', u'info_', u'information', u'init', u'initial', u'initialized', u'initializing', u'initiated', u'initiatetask', u'initiating', u'initramfs', u'initrd', u'initsizes', u'inode', u'inodes', u'input', u'input_tsn_norrsken', u'inputbandidm', u'inputnum', u'inputstate', u'install_cheats', u'instance', u'instruction', u'instructions', u'interface', u'interfaces', u'internal', u'internalerror', u'interval', u'intialized', u'invalid', u'invoking', u'io', u'io_map_base', u'ip', u'ipcclean', u'ipci', u'ipreviewpresentation', u'irec', u'iris', u'irq', u'isfinal', u'isfinalresponse', u'isn', u'issuequery', u'isvalidnoretry', u'itb', u'itemsready', u'iteration', u'jan', u'jenkins', u'jenkslave', u'joined', u'joining', u'journal', u'jpg', u'json', u'jsoncontext', u'jsoncontextclosing', u'jsoncontextgot', u'jsoncontextresponse', u'jsplugins', u'jul', u'july', u'jump', u'jun', u'june', u'kb', u'keepalive', u'kernel', u'kernelpanic', u'kernelstack', u'key', u'keyladder', u'keylist', u'keymanager', u'keyring', u'keys', u'kick', u'killed', u'kjournald', u'klogd', u'kmsg', u'known', u'knownhost', u'knownhostbeacon', u'knownhostcomponent', u'knownhostitemsearch', u'kpp', u'krasnyansky', u'kthread', u'label', u'lac', u'language', u'lanipaddress', u'lastpcrm', u'lastpts', u'lastptsm', u'laststreamtimem', u'lasttime', u'late', u'launch', u'launched', u'launchui', u'ld', u'leak', u'learn', u'leds', u'left', u'length', u'leo', u'leo_xboot', u'leodec', u'leofeb', u'leojan', u'leomar', u'leonov', u'letter', u'libamazon_interface', u'libavcodec', u'libavformat', u'libavutil', u'libbcmdccgfx', u'libbcmdtvcc', u'libc', u'libcap', u'libcdsassetsentinelasf', u'libcrypto', u'libcurl', u'libdirect', u'libdirectfb', u'libdirectfb_tivogfx', u'libdirectfbwm_default', u'libdl', u'libffi', u'libfreetype', u'libfusion', u'libgcc_s', u'libgfxcompositor', u'libgio', u'libglib', u'libglibtmk', u'libgmodule', u'libgobject', u'libgstaudio', u'libgstaudioparsers', u'libgstbase', u'libgstcoreelements', u'libgstcoreindexers', u'libgstinterfaces', u'libgstmpegdemux', u'libgstneonhttpsrc', u'libgstpbutils', u'libgstreamer', u'libgstriff', u'libgstrtp', u'libgstsouphttpsrc', u'libgsttag', u'libgsttivosink', u'libgsttypefindfunctions', u'libgstuvaplugin', u'libgstvideo', u'libgstwavparse', u'libgthread', u'libhpkinterfaces', u'libhpkoss', u'libhpkwrapper', u'libhpkwrhl', u'libhpkwrll', u'libhwcap', u'libiaekernel', u'libicachemanager', u'libidirectfbfont_default', u'libidirectfbfont_dgiff', u'libidirectfbimageprovider_dfiff', u'libidirectfbimageprovider_gif', u'libidirectfbimageprovider_jpeg', u'libidirectfbimageprovider_png', u'libifilesystem', u'libiflashruntimelib', u'libigraphicsdriver', u'libiimagedecoder', u'libiio', u'libinet', u'libiprocess', u'libistagecraft', u'libisystemdriver', u'libitvhttp', u'libitvhttpifc', u'libitvmgr', u'libiurlops', u'libiuserinputdriver', u'libjavascriptcore', u'libjpeg', u'libm', u'libmediautil', u'libmomasf', u'libmomdsmcc', u'libmommdi', u'libmxml', u'libnds_ams', u'libneon', u'libnexusmgr', u'libnss_dns', u'libnss_files', u'liboperalmclient', u'libpeerconnection', u'libplayready', u'libpthread', u'library', u'libresolv', u'librt', u'libsmoothstreaming', u'libsoup', u'libspotify_bridge_jsp', u'libspotify_bridge_legacy', u'libssl', u'libssltmk', u'libssp', u'libsspkplatform', u'libstdc', u'libstx', u'libtmk', u'libtvbus', u'libtvdccfont', u'libtvplayreadyopl', u'libtvstructures', u'libtvutil', u'libtvverimatrix', u'libtvverimatriximpl', u'libutil', u'libuvabackend', u'libuvadrmbackend', u'libuvadrmbackendloader', u'libuvagstcompat', u'libuvaooifbackend', u'libverifierapp', u'libvpx', u'libwdkplugin', u'libwebaudio_jsp', u'libwebp', u'libwebsockets', u'libwtf', u'libwvplaybackapi', u'libwvstreamcontrolapi', u'libz', u'like', u'line', u'linesize', u'link', u'link_change_task', u'linux', u'list', u'listener', u'listening', u'live', u'livecacheaction', u'livetunerrequest', u'livetunerresult', u'livetv', u'llnwd', u'lm', u'lo', u'load', u'loaded', u'loading', u'local', u'localhost', u'localschemaexists', u'location', u'log', u'log_info', u'logcleanupactivity', u'logger', u'logging', u'logs', u'logscripts', u'logstmlix', u'longer', u'look', u'looking', u'looks', u'loop', u'looping', u'lost', u'lowest', u'lowfree', u'lowtotal', u'macaddr_eth', u'machine', u'macrovision', u'magic', u'magnum', u'main', u'manageimageconstraintm', u'manager', u'manifest_file', u'manufacturerid', u'map', u'mapped', u'mapping', u'mar', u'mark', u'marked', u'martin', u'mask', u'masprod', u'mastercliparray', u'maudio', u'max', u'maxfillable', u'maxfreechunk', u'maxk', u'mb', u'mclient', u'mdesiredaction', u'mdio', u'mean', u'med', u'mediaaccesskey', u'mediachangehelper', u'mediacontrol', u'mediaeventqueue', u'mediamgr', u'medium', u'megs', u'mem', u'memfree', u'meminfo', u'memory', u'memoryleak', u'memorylogger', u'mempool', u'memtotal', u'merclog', u'mercurylog', u'meshsvc', u'message', u'meta', u'method', u'mfs', u'mfsmaintenance', u'mhz', u'middlemind', u'migration_cost', u'min', u'minavgmax', u'mind', u'mindrpcresponse', u'mindrpcwrapper', u'minicom', u'minilauncher', u'minilauncherpollcompletion', u'mips', u'mipsel', u'mirolog', u'missed', u'misseddeadlines', u'missing', u'mlock', u'mlocked', u'mmca', u'mmgroutputsection', u'mmio', u'mmoutputsection', u'mobility', u'moca', u'mod', u'mode', u'modify', u'modlog', u'module', u'modulehost', u'modules', u'mom', u'momclipwritestats', u'momptshistory', u'momtraining', u'mon', u'monitoring', u'monotonic', u'mount', u'mounted', u'mounting', u'mounts', u'movable', u'movies', u'mozilla', u'mpci', u'mpegmulticache', u'mr', u'mrajamani_changes', u'mrajamani_ism', u'mrpc', u'mrs', u'ms', u'msec', u'msecs', u'msg', u'msi', u'msiack', u'mswaitresult', u'mtbr', u'mtbrneutron', u'mtd', u'multi', u'multicache', u'multiple', u'music', u'mv', u'myshowsmainscreen', u'myshowstask', u'mysql', u'myworld', u'namelist', u'nan', u'nanalogservicem', u'nand', u'nanjundaiah', u'nav', u'ncq', u'ndll', u'neato', u'neg', u'negotiation', u'net', u'netappcontroller', u'netappcontrolleractivit', u'netappcontrolleractivity', u'netappcsdirectv', u'netapppartnerconfig', u'netapppartnerconfigactivity', u'netappsqlchannellist', u'netappsqlchannelsourcebase', u'netappsqlcsdisc', u'netappsqlcspod', u'netappsqlcstms', u'netappsqlcstr', u'netappstatus', u'netappstatusactivity', u'netappvodmetadata', u'netflix', u'netstat', u'network', u'networkshowcases', u'new', u'newfile', u'nexus', u'nexus_audio_decoder', u'nexus_display_open', u'nexus_hdmi_output', u'nexus_platform_join', u'nexus_platform_uninit', u'nexus_playpump', u'nexus_playpump_stop', u'nexus_recpump', u'nexus_surface', u'nexus_surface_create', u'nexus_video_input_vbi', u'nformats', u'nfs_unstable', u'ng', u'nil', u'no_mdio', u'nodav', u'node', u'noise', u'noncandidates', u'nonfree', u'nops', u'normal', u'notag', u'notagentryaction', u'notificat', u'notification', u'nov', u'npk', u'nrequests', u'nss', u'null', u'number', u'numbers', u'nummaxcaps', u'nummincaps', u'nx', u'nxsetup', u'obj', u'object', u'occurred', u'occurs', u'oct', u'offset', u'ok', u'old', u'oldestdata', u'omessages', u'ondiskmanagerresult', u'onjson', u'onkeyevent', u'onmessagereceived', u'ono', u'onoutputstatechange', u'onsuspend', u'onwards', u'op', u'opacity', u'open', u'open_crypto', u'openfl', u'opening', u'opennsend', u'opera', u'opera_dir', u'operating', u'opl', u'options', u'order', u'ordered', u'os', u'os_restart', u'osd', u'out_dev', u'output', u'outputstate', u'overflow', u'overflow_cb', u'override', u'overrides', u'owned', u'paceboot', u'pack', u'pad', u'pages', u'pagetables', u'pallocatenotificationinterfacem', u'panic', u'par_val', u'parameters', u'parentalcontrolspinrequest', u'parentalcontrolssettingsmodel', u'parse', u'parserbandidm', u'partition', u'partner', u'partnerconfig', u'pass', u'passed', u'passkey', u'paste', u'patterstocheck', u'pause', u'pc', u'pci', u'pci_bar', u'pcie', u'pcommmempool', u'pcr', u'pcrlib', u'pcrpid', u'pcrwrapcountm', u'pdf', u'pdt', u'peer', u'pending', u'pensize', u'percentagecomplete', u'percentcomplete', u'percpu', u'perflog', u'performing', u'permissions', u'pf', u'pfn', u'pfreemaxm', u'pg', u'pgandhi', u'pgd', u'pgdg', u'ph', u'phase', u'phonehome', u'php', u'phy', u'physical', u'physically', u'physmem_top', u'pic', u'pictures', u'pid', u'ping', u'pitem', u'pixel', u'plastm', u'plat_prepare_cpus', u'platform', u'platformlibcdsassetsentinelasf', u'platformlibcisco', u'platformlibhpkhl', u'platformlibhpkll', u'platformlibitvhttp', u'platformlibitvmgr', u'platformlibmomasf', u'platformlibmomcds', u'platformlibmomdsmcc', u'platformlibmommdi', u'platformlibnds_ams', u'platformlibnexus', u'platformlibverifierapp', u'platformplugins', u'platformprimitivesockettcp', u'platformurlstream', u'playability', u'playback', u'player', u'playlive', u'playpump', u'playready', u'plog', u'plugin', u'plugins', u'pm', u'pmt', u'png', u'pnp', u'pod', u'podapp', u'podtransportthread', u'podversionnumber', u'point', u'pong', u'pool', u'populatebuttonwithdata', u'port', u'portinginterface', u'ports', u'postassemble', u'posting', u'potential', u'power', u'powered', u'ppp', u'pr', u'prashantsheel', u'prechannelchange', u'precision', u'prefix', u'prefs', u'preliminary', u'preparevisualization', u'preroll', u'press', u'pretivocentralmessageoverlay', u'pri', u'prid', u'primary', u'priority', u'proc', u'process', u'processevents', u'processfsmevent', u'processhuxleysessionevent', u'processing', u'processnpkstatus', u'processsetsyncstate', u'production', u'program', u'programatic', u'programdied', u'progress', u'project', u'projectview', u'prom_boot_secondary', u'prom_smp_finish', u'prom_type', u'propose', u'protocol', u'protolog', u'prototsn', u'provided', u'proxy', u'prs', u'ps', u'psiptag', u'pst', u'psysmem', u'ptimeout', u'pts', u'pubbackhauldisplay', u'public', u'pull', u'pure', u'putbuf', u'pvr', u'px', u'quad', u'qualcomm', u'quat', u'quattro', u'queries', u'query', u'querysample', u'queue', u'quiesce', u'quiesced', u'quit', u'ra', u'rac', u'raja_settings', u'ram', u'ramdisk', u'ran', u'random', u'ranges', u'rap_dspchn', u'rareddy', u'rashmi', u'rate', u'rating', u'ratingsystemdataget', u'raw', u'rb', u'rc', u'rcs', u'read', u'read_mode_disk', u'readclosedcaptioning', u'readdbvalues', u'reader', u'readfromfsstream', u'readindexm', u'reading', u'ready', u'really', u'reallydostart', u'reason', u'reboot', u'reboot_on_singlecrash', u'reboot_reason', u'rebootfiles', u'rebooting', u'rebootquery', u'rec', u'receiveavail', u'received', u'receiver', u'recent', u'reception', u'recid', u'reconnect', u'record', u'recordchannelid', u'recorder', u'recording', u'recordingfolderitemsearch', u'recordingid', u'recordingprogressmonitor', u'recordoffsetm', u'recover', u'recovering', u'recpumpidm', u'recs', u'recv', u'reduction', u'ref', u'refer', u'refill', u'regexp', u'region', u'register', u'registered', u'registering', u'relaying', u'release', u'remote', u'remove', u'removed', u'removenetworkstate', u'removing', u'reno', u'repeated', u'repo', u'report_quattro', u'report_virgin', u'reports', u'reproduce', u'request', u'requested', u'requestedmindversion', u'requesthandler', u'requestid', u'requesttype', u'requesturl', u'reserved', u'reset', u'resetinputstate', u'resetting', u'resolv', u'resource', u'resourceidsm', u'response', u'responsecount', u'restart', u'results', u'resume', u'resumed', u'ret', u'retracted', u'retractedentryaction', u'retry', u'return', u'returned', u'returning', u'reused', u'revision', u'rgopal', u'rgopal_changes', u'rgopal_ism', u'right', u'ring', u'rmuniramaiah', u'rmuniramaiah_changes', u'rmuniramaiah_ism', u'root', u'rootsig', u'routability', u'route', u'router', u'rpc', u'rpcid', u'rpm', u'rt', u'ru', u'ruby_stuff', u'rubysql', u'rubywork', u'rule', u'run', u'running', u'rwnoexecnosuidnodevdata', u'rx', u'sahil', u'sallocate', u'sample', u'samples', u'sandbox', u'sata', u'sata_svw', u'save_data', u'say', u'says', u'sb', u'sc', u'scaled', u'sch', u'sched', u'schedule', u'scheduled', u'scheduleflowtaskcontroller', u'scheduler', u'schedulewriter', u'schemaversion', u'scontrol', u'scramblekey', u'screen', u'screencontroller', u'scsi', u'sct', u'sda', u'sdv', u'se', u'search', u'seasonpass', u'seasonpassserverid', u'sec', u'secondary', u'secondary_drive', u'seconds', u'secondsinstate', u'secondstageinstaller', u'section', u'sectors', u'secure', u'seek', u'segment', u'segmentation', u'select', u'sema', u'send', u'sendcancel', u'senderbodyid', u'sending', u'sendkey', u'sendlivedecoderequest', u'sendplaybackrequest', u'sendrequest', u'sendrpcwrappertomiddlemind', u'sendtask', u'sep', u'serial', u'serialhi', u'serialize', u'seriallow', u'server', u'serverresolver', u'service', u'servicestateeventregister', u'session', u'sessionid', u'set', u'setaspectratio', u'setaspectratiocorrection', u'setcurrentstate', u'setdim', u'setdisplayformat', u'setdisplayformats', u'sethpkcgms', u'sethpkdisplayformat', u'sethpkdisplayformats', u'sethpkmacrovision', u'setimageconstraint', u'setstcvalid', u'settimefromntp', u'setting', u'settings', u'setup', u'setupdbbuffer', u'setupnetwork', u'setupnetworkcachingservers', u'setvisibility', u'sfree', u'sh', u'shared', u'sharing', u'shell', u'shmem', u'showcasegrid', u'showing', u'shutdown', u'si', u'signal', u'signature', u'signed', u'sigtrap', u'sihost', u'sihost_atlas', u'sihostactivity', u'singlenetwork', u'siva', u'size', u'skipped', u'skipping', u'sl', u'slab', u'sleep', u'slot', u'sls_conf', u'smaiya_changes', u'smaiya_ism', u'smaka', u'smp', u'snaidu_changes', u'snaidu_ism', u'sneelavara_changes', u'sneelavara_ism', u'socket', u'software', u'source', u'spaddingm', u'spdif', u'speed', u'speedtracker', u'splash', u'spoke', u'sqlcpptutorial', u'sqlite', u'sqlpushactivity', u'sqltry', u'squash', u'src', u'srcroot', u'srec', u'sreclaimable', u'ssl', u'ssl_connect', u'sstatus', u'st', u'stack', u'stack_parser', u'stackdata', u'stackgroup', u'stagecraft', u'staged_premfs', u'staging', u'start', u'started', u'startfancontrol', u'starting', u'startnewtune', u'startop', u'startproxylauncher', u'startreadinglocked', u'startsubtask', u'startup', u'stat', u'state', u'static', u'station', u'statistics', u'stats', u'status', u'stb', u'stc', u'stcmaster', u'std', u'stg', u'stop', u'stopped', u'stopping', u'store', u'strap', u'strapped', u'stray', u'strayed', u'stream', u'streamoffsetm', u'streams', u'stringtheory', u'stringtheoryinstructions', u'strip_resources', u'stxipclib', u'subscription', u'subsription', u'subsystem', u'succeeded', u'success', u'successful', u'successfully', u'summary', u'sun', u'sunil_comhem', u'sunreclaim', u'super', u'superblocks', u'superflopy', u'supported', u'supports', u'surface', u'suspend', u'suspending', u'svclog', u'svengaliactivi', u'svengaliactivity', u'sw', u'sw_irq', u'swapcached', u'swapfree', u'swaptotal', u'switch', u'switcher', u'switching', u'swver', u'sync', u'syncifenabled', u'syncping', u'syncstats', u'synthesized', u'synthesizer', u'syslib', u'syslog', u'syslogd', u'systems', u'systemservices', u'table', u'tables', u'tae', u'tagged', u'tagmanagerstats', u'tainted', u'takememorychunk', u'tango', u'tap', u'tar', u'target', u'targetspeed', u'task', u'taskcontroller', u'tbshd', u'tcd', u'tcdclient', u'tcdlient', u'tcdplatform', u'tcds', u'tcdui', u'tcp', u'tcpsocketimpl', u'teamcheckins', u'teamlist', u'teleport', u'teleportcontrol', u'teleportcontrolfsm', u'temp', u'templates', u'temporarily', u'terminal', u'terminated', u'test', u'test_guided', u'testdisk', u'testgem', u'text', u'textstyle', u'tgz', u'th', u'theory', u'theprogramlauncherpreviouslyknownasswedishchef', u'thread', u'threshold', u'thu', u'thumbsdown', u'thumbsup', u'tid', u'time', u'timed', u'timeout', u'timer', u'timer_interrupt', u'times', u'timesinceputbuf', u'timesincereset', u'timestamp', u'title', u'tivo', u'tivo_encore', u'tivo_hdui', u'tivo_hydra', u'tivo_stb_diskless_tunerless', u'tivo_tcdui', u'tivoapp', u'tivoapplication', u'tivoapplicationcbintotmksignalhandler', u'tivoapplicationproxylauncher', u'tivocentralscreen', u'tivoplatform', u'tivoplaybackgroupshutdown', u'tivoservice', u'tivosh', u'tivosystem', u'tivovideoview', u'tlb', u'tmds', u'tmk', u'tmk_pool_monitor', u'tmkactivity', u'tmkactivitymanager', u'tmkactivityrunner', u'tmkactivitystats', u'tmkassertionfailure', u'tmkbt', u'tmkbufferedmemorymanager', u'tmkbufferedstream', u'tmkclipfile', u'tmkclipfilets', u'tmkclipwritecache', u'tmkdebugassertionfailure', u'tmkerrordataloggerplugin', u'tmkgenericqueue', u'tmkinit', u'tmkinternalsemaphore', u'tmklogdebugassertionfailure', u'tmklogger', u'tmkmempool', u'tmkmonotonictime', u'tmkreboot', u'tmkserver', u'tmksocket', u'tmkthreadgrouprunner', u'tmkxfrmbufts', u'tmmkbtworkaround', u'tmp', u'tmpv', u'tnr', u'toadi', u'tobangalore', u'took', u'tools', u'topune', u'total', u'touch', u'tport', u'trace', u'tracehash', u'traces', u'traffic', u'trans', u'transaction', u'transition', u'transitionmanager', u'transport', u'trap', u'trauma', u'trc', u'trd', u'trig', u'trio', u'triocellpopulator', u'trioobject', u'trioquerylistplugin', u'true', u'try', u'trying', u'tsn', u'tsn_list_backdate', u'tsnlist', u'tsnprefix', u'tue', u'tun', u'tuneeventid', u'tuner', u'tunerpolicy', u'turn', u'turned', u'turning', u'turnoutputcombineron', u'tv', u'tv_db_not_found', u'tv_npk_eam_service', u'tv_system_network_availability_response__id', u'tvaesaccesstable', u'tvaesbusserver', u'tvaescandybucketsearcho', u'tvaescheckparentalcontrolspinreq', u'tvaesclientsessionactiv', u'tvaesclientsessionactivity', u'tvaesjsonsocketsession', u'tvaeslocalcallactivity', u'tvaesmclientactivity', u'tvaesmiddlemindconnecti', u'tvaesmiddlemindconnectionactivit', u'tvaesmiddlemindconnectionactivity', u'tvaesmiddlemindroute', u'tvaesmindavailabilitymonitor', u'tvaesmixmappingsearch', u'tvaestunerconflictevent', u'tvaesuielementcache', u'tvaesuielementcacheactivity', u'tvaesuinavigateop', u'tvappactconstants', u'tvatlascablecardcontrollerfsm', u'tvaudiooutguts', u'tvbannerbasewidget', u'tvbct', u'tvbin', u'tvbus_allow_local_fast_path', u'tvbusconnectionactivity', u'tvbusprocessoneevent', u'tvbussession', u'tvbussessiontmk', u'tvcablecarderrorfsm', u'tvcablecardstatusfsm', u'tvcanarymonitor', u'tvcdsinprogressplayabilityserver', u'tvcdsupdateserver', u'tvdbrecordingstate', u'tvdccfont', u'tvdccfontdata', u'tvdccfontinit', u'tvdisplaycontroller', u'tveamdata', u'tveamfsm', u'tverr', u'tvflashhostactivity', u'tvfrontpanelfusionpolicy', u'tvfsmfinitestatemachine', u'tvfsmgroupdata', u'tvgraphicscompositordaemon', u'tvguidefsm', u'tvguidehdfsm', u'tvhmehostactivity', u'tvhpknexusapi', u'tvhpktranscodesession', u'tvhttpclient', u'tvhttpclientsecuresocket', u'tvhttpsslutil', u'tvhttpwebproxy', u'tvimageinfoindexscanima', u'tvimageinfoindexscanimagesactivity', u'tvipreviewpolicypresentationdata', u'tvipreviewpolicypresentationfsm', u'tvipreviewpolicytagreceptiondata', u'tvipreviewpolicytagreceptionfsm', u'tvlauncher', u'tvlauncherdebug', u'tvlog', u'tvmedianetworktransfer', u'tvmediautilhpkoutput', u'tvmessageandsettingsgluefsm', u'tvmombufferadjusterts', u'tvmomccdecoder', u'tvmomclosedcaptioning', u'tvmomdvbsubtitledecoder', u'tvmomhpktssink', u'tvmomhpktssinkex', u'tvmomhpktsswitchsource', u'tvmommixaudsink', u'tvmomnpksession', u'tvmomprogrammaptable', u'tvmomstreamtimegenerator', u'tvmomtsccreader', u'tvmomtscopyprotect', u'tvmomtuneableswitchsource', u'tvnetworknotifyclient', u'tvnetworkrecording', u'tvnpkchannellistmgr', u'tvpauseaduielementhandler', u'tvpausemenubase', u'tvpvrpromohelper', u'tvpvrrecordingdataservice', u'tvrecorderactivity', u'tvrecordercanaryactivit', u'tvrecordercanaryactivity', u'tvrecordinglookuputil', u'tvrecordingwriter', u'tvreplaycontrol', u'tvschedulermain', u'tvsecureblob', u'tvsettingsdisplaymenu', u'tvsettingssettingsmenu', u'tvsettingssettingsmenufsm', u'tvsetupcontextdata', u'tvsetupgettinginfo', u'tvsetupserviceconnectionsdata', u'tvsetupserviceconnectionsfsm', u'tvsetupsignalsourcequeryserver', u'tvsoundplayer', u'tvstatus', u'tvsyncactivity', u'tvsyncbaseadapter', u'tvsyncworker', u'tvtranscoderpowermgr', u'tvtuikresource', u'tvvideoexternalhostentryfsm', u'tvvideoguts', u'tvvideogutsactivity', u'tvvideoinputlistenerdata', u'tvvideooutputlistener', u'tvvideooutputlistenerdata', u'tvvideooutputonnow', u'tvvideoplayerclientdata', u'tvvideopolicy', u'tvviewtimeractivity', u'tvvmdisplaycontroller', u'tvwatchlivebase', u'tvwatchlivehdfsm', u'tvwatchrecordingdata', u'tvwatchrecordinghdfsm', u'tween', u'txt', u'type', u'typescript_old', u'ual', u'ubi', u'ubi_nand', u'ubuntu', u'udma', u'ui', u'uicacheupdatemessagelist', u'uicacheupdatemessagesearch', u'uielement', u'uielementsearch', u'uinavigate', u'uknown', u'uml', u'unable', u'unassociateproxy', u'unblack', u'uncaught', u'undefined', u'underflow', u'underflowing', u'unevictable', u'unexpected', u'unexpectly', u'unified', u'unifieditemlist', u'unifieditemsearch', u'uniquename', u'unit', u'universal', u'unk', u'unknown', u'unlogged', u'unquiesced', u'unresolved', u'unscd', u'unset', u'unsigned', u'unusedbytes', u'updated', u'updaterecordingobjsecswatched', u'updating', u'upload', u'url', u'url_file', u'usa', u'usable', u'usb', u'usbcore', u'usbfs', u'usc', u'usd', u'use', u'usec', u'useclientcerts', u'used', u'user', u'userclear', u'usercontent', u'using', u'usrhaxe', u'utils', u'uva_backends', u'uva_drm_backends', u'valid', u'validation', u'value', u'values', u'var', u'variable', u'variance', u'vars', u'ved', u'verify', u'vers', u'version', u'vfmt', u'vicky', u'video', u'videocontrollerfsm', u'videofsm', u'videomaster', u'videos', u'videosettings', u'videostream', u'viewing', u'vinayak', u'virtual', u'visualizationcomplete', u'vm', u'vmallocchunk', u'vmalloctotal', u'vmallocused', u'vmc', u'vmlinux', u'vo', u'vodabstraction', u'void', u'volatile', u'volatilelibviewrightwebclient', u'vpid', u'vprakash_changes', u'vprakash_ism', u'w_snaidu', u'wait', u'waitforendofratemode', u'waiting', u'wake', u'waking', u'warm_reboot_post_june', u'warning', u'watch', u'watchdogchore', u'water', u'way', u'wb', u'wdkmonitoringactivity', u'wed', u'whichever', u'whitelisted', u'width', u'wipro', u'wipro_alter', u'wipro_change', u'wipro_ism', u'wipronames', u'wiprousers', u'wireless', u'wm', u'workspace', u'wquatname', u'wrapcount', u'write', u'writeall', u'writealldeadline', u'writealldifffromdeadline', u'writeallnumrecs', u'writeback', u'writebacktmp', u'writeindexm', u'writing', u'wrong', u'ws', u'wss', u'www', u'xbox', u'xls', u'xml', u'xmlsocket', u'yaml', u'yashureport', u'ycbcr', u'yes', u'yourtcd', u'zero_project', u'zigzag', u'zip', u'zlib', u'zone', u'zonelists']\n"
     ]
    }
   ],
   "source": [
    "print len(people)\n",
    "print X.get_shape()\n",
    "features = tfidfModel.get_feature_names()\n",
    "print features"
   ]
  },
  {
   "cell_type": "code",
   "execution_count": 24,
   "metadata": {
    "collapsed": false
   },
   "outputs": [
    {
     "name": "stdout",
     "output_type": "stream",
     "text": [
      "[ 0.  0.  0. ...,  0.  0.  0.]\n",
      "17 0.327422213893 activity\n",
      "24 0.0123299325054 address\n",
      "112 0.00659590699051 block\n",
      "123 0.0104292104449 boosted\n",
      "158 0.0061276011084 bt\n",
      "166 0.00573431184066 build\n",
      "169 0.0149313983574 bus\n",
      "172 0.00769232122297 bva\n",
      "205 0.0075411248997 cause\n",
      "360 0.00877595653327 csr\n",
      "456 0.680326072829 dnsstatelistenactivity\n",
      "477 0.0318205499651 dump\n",
      "486 0.0183371720375 dynerrordatalogging\n",
      "498 0.00877595653327 eir\n",
      "511 0.0162397019944 end\n",
      "512 0.00500149800738 end_of_bt\n",
      "531 0.0149159623542 error\n",
      "578 0.0100029960148 fatal\n",
      "716 0.0075411248997 hi\n",
      "732 0.00559875861498 hpk\n",
      "843 0.546918619656 kernel\n",
      "853 0.0102537099032 killed\n",
      "860 0.0168132280308 knownhostcomponent\n",
      "878 0.00576879263339 ld\n",
      "896 0.012376994032 libbcmdccgfx\n",
      "897 0.012376994032 libbcmdtvcc\n",
      "898 0.00583848873527 libc\n",
      "900 0.024491919584 libcdsassetsentinelasf\n",
      "901 0.00931496137323 libcrypto\n",
      "902 0.00931496137323 libcurl\n",
      "907 0.00583848873527 libdl\n",
      "911 0.00594492234371 libgcc_s\n",
      "912 0.0068912271886 libgfxcompositor\n",
      "938 0.00917456631349 libhpkinterfaces\n",
      "939 0.00605371260627 libhpkoss\n",
      "940 0.00938669246906 libhpkwrapper\n",
      "941 0.00917456631349 libhpkwrhl\n",
      "942 0.00917456631349 libhpkwrll\n",
      "943 0.0105193688056 libhwcap\n",
      "961 0.024491919584 libitvhttp\n",
      "963 0.0121183294266 libitvmgr\n",
      "968 0.00583848873527 libm\n",
      "969 0.0221961898061 libmediautil\n",
      "970 0.024491919584 libmomasf\n",
      "971 0.012376994032 libmomdsmcc\n",
      "972 0.0242366588533 libmommdi\n",
      "974 0.0242366588533 libnds_ams\n",
      "977 0.0134074543507 libnss_dns\n",
      "978 0.0126500360955 libnss_files\n",
      "982 0.00583848873527 libpthread\n",
      "984 0.0126500360955 libresolv\n",
      "985 0.00693490296772 librt\n",
      "990 0.00931496137323 libssl\n",
      "991 0.0159173923745 libssltmk\n",
      "994 0.00598091878895 libstdc\n",
      "996 0.00605371260627 libtmk\n",
      "998 0.012376994032 libtvdccfont\n",
      "1000 0.00655513088265 libtvstructures\n",
      "1001 0.00583848873527 libtvutil\n",
      "1002 0.024491919584 libtvverimatrix\n",
      "1004 0.00583848873527 libutil\n",
      "1010 0.024491919584 libverifierapp\n",
      "1015 0.0242366588533 libwebsockets\n",
      "1019 0.00945948628637 libz\n",
      "1036 0.0075411248997 lo\n",
      "1048 0.0141105793154 logging\n",
      "1111 0.0235084008783 message\n",
      "1127 0.00739444258025 mips\n",
      "1164 0.0078483182235 mr\n",
      "1277 0.0165805564732 onwards\n",
      "1304 0.00684793622311 pack\n",
      "1325 0.00759100850378 pc\n",
      "1371 0.00590918769312 platformlibhpkhl\n",
      "1372 0.00590918769312 platformlibhpkll\n",
      "1380 0.00590918769312 platformlibnexus\n",
      "1382 0.0143032900071 platformplugins\n",
      "1429 0.0103406766478 priority\n",
      "1431 0.00806433071384 process\n",
      "1497 0.337937876712 read\n",
      "1546 0.00601718089301 release\n",
      "1553 0.0235084008783 repeated\n",
      "1713 0.01048837791 signal\n",
      "1760 0.0324794039888 stack\n",
      "1767 0.0147888851605 start\n",
      "1783 0.00684793622311 status\n",
      "1796 0.00651469038441 strayed\n",
      "1843 0.0100842623254 syslogd\n",
      "1848 0.00945948628637 tae\n",
      "1861 0.00598091878895 tcd\n",
      "1862 0.00852711891676 tcdclient\n",
      "1900 0.0232771670191 times\n",
      "1903 0.00667848864533 timestamp\n",
      "1911 0.0147888851605 tivoapp\n",
      "1924 0.0100029960148 tmk\n",
      "2025 0.0121810359357 tvbin\n",
      "2154 0.00598091878895 unexpected\n",
      "MAX number:0.680326072829 for word: zonelists\n"
     ]
    }
   ],
   "source": [
    "print X.A[0]\n",
    "#print (max(X.A[0]))\n",
    "max_number=0\n",
    "max_index=0\n",
    "for i,value in enumerate(X.A[0]):\n",
    "    if ( value != 0):\n",
    "        print i,value,features[i]\n",
    "        if ( value > max_number ):\n",
    "            max_number = value\n",
    "            max_index = i\n",
    "print (\"MAX number:{} for word: {}\".format(max_number,features[i]))"
   ]
  },
  {
   "cell_type": "code",
   "execution_count": 13,
   "metadata": {
    "collapsed": true
   },
   "outputs": [],
   "source": [
    "#from sklearn import neighbors\n",
    "#knn=neighbors.KNeighborsClassifier(n_neighbors=5)"
   ]
  },
  {
   "cell_type": "code",
   "execution_count": 14,
   "metadata": {
    "collapsed": false
   },
   "outputs": [],
   "source": [
    "#knn.fit(X.A,people['name'])"
   ]
  },
  {
   "cell_type": "code",
   "execution_count": 15,
   "metadata": {
    "collapsed": false,
    "scrolled": true
   },
   "outputs": [],
   "source": [
    "#TEMPORARY COMMENTING\n",
    "#pnd.set_option('display.max_colwidth', -1)\n",
    "#index=1\n",
    "#print people.loc[index]['name']\n",
    "#a = knn.predict(X.A[index])\n",
    "#print a\n",
    "\n",
    "# NOT REQUIRED\n",
    "#print a.shape\n",
    "#print (\"{}\".format(people[people['name'] == 'Ben Stratton']['text']))\n",
    "#print knn.classes_"
   ]
  },
  {
   "cell_type": "code",
   "execution_count": 16,
   "metadata": {
    "collapsed": false
   },
   "outputs": [],
   "source": [
    "#TEMPORARY COMMENTING\n",
    "#print knn.predict(X.A[33:35])\n",
    "#print people.loc[33:35]['name']\n",
    "\n",
    "#print knn.get_params\n",
    "\n",
    "#COMMENTED CODE : NOT REQUIRED\n",
    "#print knn.classes_\n",
    "#for i,value in enumerate(X.A[0]):\n",
    "#    if (value != 0):\n",
    "#        print \"i{}:value{}\".format(i,value)"
   ]
  },
  {
   "cell_type": "code",
   "execution_count": 25,
   "metadata": {
    "collapsed": false
   },
   "outputs": [
    {
     "name": "stderr",
     "output_type": "stream",
     "text": [
      "//anaconda2/lib/python2.7/site-packages/sklearn/utils/validation.py:386: DeprecationWarning: Passing 1d arrays as data is deprecated in 0.17 and willraise ValueError in 0.19. Reshape your data either using X.reshape(-1, 1) if your data has a single feature or X.reshape(1, -1) if it contains a single sample.\n",
      "  DeprecationWarning)\n",
      "//anaconda2/lib/python2.7/site-packages/sklearn/utils/validation.py:386: DeprecationWarning: Passing 1d arrays as data is deprecated in 0.17 and willraise ValueError in 0.19. Reshape your data either using X.reshape(-1, 1) if your data has a single feature or X.reshape(1, -1) if it contains a single sample.\n",
      "  DeprecationWarning)\n"
     ]
    },
    {
     "name": "stdout",
     "output_type": "stream",
     "text": [
      "(array([[ 0.        ,  0.        ,  0.10813995]]), array([[  0, 119, 136]]))\n",
      "================================================================================\n",
      "For [/.cheats/cmd/logScripts/74600019024AAA2/all.txt-2011-07-14 06:56:21 237321 ] neighbours are\n",
      "[4      /.cheats/cmd/logScripts/74600019024AAA2/all.tx...\n",
      "122    /.cheats/cmd/logScripts/7F80000001E2EEB/all.tx...\n",
      "1      /public/dinesh/412903/all.txt-2015-08-15 07:29...\n",
      "Name: name, dtype: object]\n",
      "================================================================================\n",
      "\n",
      "\n",
      "================================================================================\n",
      "For [/.cheats/cmd/logScripts/74800019025D46D/all.txt-2011-05-09 00:27:32 056439 ] neighbours are\n",
      "[5     /.cheats/cmd/logScripts/74800019025D46D/all.tx...\n",
      "14    /.cheats/cmd/logScripts/7EB0000001E9346/all.tx...\n",
      "15    /.cheats/cmd/logScripts/7EB0000001E9346/all.tx...\n",
      "Name: name, dtype: object]\n",
      "================================================================================\n",
      "\n",
      "\n",
      "================================================================================\n",
      "For [/.cheats/cmd/logScripts/7DB2001901F31C0/all.txt-2016-02-19 03:28:34 149026 ] neighbours are\n",
      "[6      /.cheats/cmd/logScripts/7DB2001901F31C0/all.tx...\n",
      "118    /.cheats/cmd/logScripts/8400001901F5EA2/all.tx...\n",
      "16     /.cheats/cmd/logScripts/8F00000001EF255/all.tx...\n",
      "Name: name, dtype: object]\n",
      "================================================================================\n",
      "\n",
      "\n",
      "================================================================================\n",
      "For [/.cheats/cmd/logScripts/7F80000001E2F4F/all.txt-2011-05-27 10:32:11 040884 ] neighbours are\n",
      "[7     /.cheats/cmd/logScripts/7F80000001E2F4F/all.tx...\n",
      "25    /.cheats/cmd/logScripts/7D60001901E3F9A/all.tx...\n",
      "80    /.cheats/cmd/logScripts/7F60001901E2E93/all.tx...\n",
      "Name: name, dtype: object]\n",
      "================================================================================\n",
      "\n",
      "\n",
      "================================================================================\n",
      "For [/.cheats/cmd/logScripts/7F80000001E2F4F/all.txt-2011-05-31 03:33:19 314280 ] neighbours are\n",
      "[8      /.cheats/cmd/logScripts/7F80000001E2F4F/all.tx...\n",
      "44     /.cheats/cmd/logScripts/7D60001901E49B7/all.tx...\n",
      "130    /.cheats/cmd/logScripts/7F80000001E3AE7/all.tx...\n",
      "Name: name, dtype: object]\n",
      "================================================================================\n",
      "\n",
      "\n",
      "================================================================================\n",
      "For [/.cheats/cmd/logScripts/7F80000001E35F4/all.txt-2011-04-12 19:14:35 074658 ] neighbours are\n",
      "[9     /.cheats/cmd/logScripts/7F80000001E35F4/all.tx...\n",
      "8     /.cheats/cmd/logScripts/7F80000001E2F4F/all.tx...\n",
      "44    /.cheats/cmd/logScripts/7D60001901E49B7/all.tx...\n",
      "Name: name, dtype: object]\n",
      "================================================================================\n",
      "\n",
      "\n",
      "================================================================================\n",
      "For [/.cheats/cmd/logScripts/746000190249227/all.txt-2011-06-21 22:18:59 013596 ] neighbours are\n",
      "[10    /.cheats/cmd/logScripts/746000190249227/all.tx...\n",
      "12    /.cheats/cmd/logScripts/746000190249227/all.tx...\n",
      "13    /.cheats/cmd/logScripts/746000190249227/all.tx...\n",
      "Name: name, dtype: object]"
     ]
    },
    {
     "name": "stderr",
     "output_type": "stream",
     "text": [
      "//anaconda2/lib/python2.7/site-packages/sklearn/utils/validation.py:386: DeprecationWarning: Passing 1d arrays as data is deprecated in 0.17 and willraise ValueError in 0.19. Reshape your data either using X.reshape(-1, 1) if your data has a single feature or X.reshape(1, -1) if it contains a single sample.\n",
      "  DeprecationWarning)\n",
      "//anaconda2/lib/python2.7/site-packages/sklearn/utils/validation.py:386: DeprecationWarning: Passing 1d arrays as data is deprecated in 0.17 and willraise ValueError in 0.19. Reshape your data either using X.reshape(-1, 1) if your data has a single feature or X.reshape(1, -1) if it contains a single sample.\n",
      "  DeprecationWarning)\n",
      "//anaconda2/lib/python2.7/site-packages/sklearn/utils/validation.py:386: DeprecationWarning: Passing 1d arrays as data is deprecated in 0.17 and willraise ValueError in 0.19. Reshape your data either using X.reshape(-1, 1) if your data has a single feature or X.reshape(1, -1) if it contains a single sample.\n",
      "  DeprecationWarning)\n",
      "//anaconda2/lib/python2.7/site-packages/sklearn/utils/validation.py:386: DeprecationWarning: Passing 1d arrays as data is deprecated in 0.17 and willraise ValueError in 0.19. Reshape your data either using X.reshape(-1, 1) if your data has a single feature or X.reshape(1, -1) if it contains a single sample.\n",
      "  DeprecationWarning)\n",
      "//anaconda2/lib/python2.7/site-packages/sklearn/utils/validation.py:386: DeprecationWarning: Passing 1d arrays as data is deprecated in 0.17 and willraise ValueError in 0.19. Reshape your data either using X.reshape(-1, 1) if your data has a single feature or X.reshape(1, -1) if it contains a single sample.\n",
      "  DeprecationWarning)\n",
      "//anaconda2/lib/python2.7/site-packages/sklearn/utils/validation.py:386: DeprecationWarning: Passing 1d arrays as data is deprecated in 0.17 and willraise ValueError in 0.19. Reshape your data either using X.reshape(-1, 1) if your data has a single feature or X.reshape(1, -1) if it contains a single sample.\n",
      "  DeprecationWarning)\n",
      "//anaconda2/lib/python2.7/site-packages/sklearn/utils/validation.py:386: DeprecationWarning: Passing 1d arrays as data is deprecated in 0.17 and willraise ValueError in 0.19. Reshape your data either using X.reshape(-1, 1) if your data has a single feature or X.reshape(1, -1) if it contains a single sample.\n",
      "  DeprecationWarning)\n",
      "//anaconda2/lib/python2.7/site-packages/sklearn/utils/validation.py:386: DeprecationWarning: Passing 1d arrays as data is deprecated in 0.17 and willraise ValueError in 0.19. Reshape your data either using X.reshape(-1, 1) if your data has a single feature or X.reshape(1, -1) if it contains a single sample.\n",
      "  DeprecationWarning)\n"
     ]
    },
    {
     "name": "stdout",
     "output_type": "stream",
     "text": [
      "\n",
      "================================================================================\n",
      "\n",
      "\n",
      "================================================================================\n",
      "For [/.cheats/cmd/logScripts/746000190249227/all.txt-2011-06-22 15:58:35 047128 ] neighbours are\n",
      "[11    /.cheats/cmd/logScripts/746000190249227/all.tx...\n",
      "13    /.cheats/cmd/logScripts/746000190249227/all.tx...\n",
      "10    /.cheats/cmd/logScripts/746000190249227/all.tx...\n",
      "Name: name, dtype: object]\n",
      "================================================================================\n",
      "\n",
      "\n",
      "================================================================================\n",
      "For [/.cheats/cmd/logScripts/746000190249227/all.txt-2011-06-23 18:17:58 120892 ] neighbours are\n",
      "[12    /.cheats/cmd/logScripts/746000190249227/all.tx...\n",
      "10    /.cheats/cmd/logScripts/746000190249227/all.tx...\n",
      "13    /.cheats/cmd/logScripts/746000190249227/all.tx...\n",
      "Name: name, dtype: object]\n",
      "================================================================================\n",
      "\n",
      "\n",
      "================================================================================\n",
      "For [/.cheats/cmd/logScripts/746000190249227/all.txt-2011-06-24 12:41:18 149951 ] neighbours are\n",
      "[13    /.cheats/cmd/logScripts/746000190249227/all.tx...\n",
      "10    /.cheats/cmd/logScripts/746000190249227/all.tx...\n",
      "12    /.cheats/cmd/logScripts/746000190249227/all.tx...\n",
      "Name: name, dtype: object]\n",
      "================================================================================\n",
      "\n",
      "\n",
      "================================================================================\n",
      "For [/.cheats/cmd/logScripts/7EB0000001E9346/all.txt-2011-11-05 04:44:37 091835 ] neighbours are\n",
      "[14    /.cheats/cmd/logScripts/7EB0000001E9346/all.tx...\n",
      "5     /.cheats/cmd/logScripts/74800019025D46D/all.tx...\n",
      "15    /.cheats/cmd/logScripts/7EB0000001E9346/all.tx...\n",
      "Name: name, dtype: object]\n",
      "================================================================================\n",
      "\n",
      "\n",
      "================================================================================\n",
      "For [/.cheats/cmd/logScripts/7EB0000001E9346/all.txt-2011-11-11 08:17:08 789035 ] neighbours are\n",
      "[15    /.cheats/cmd/logScripts/7EB0000001E9346/all.tx...\n",
      "5     /.cheats/cmd/logScripts/74800019025D46D/all.tx...\n",
      "14    /.cheats/cmd/logScripts/7EB0000001E9346/all.tx...\n",
      "Name: name, dtype: object]\n",
      "================================================================================\n",
      "\n",
      "\n",
      "================================================================================\n",
      "For [/.cheats/cmd/logScripts/8F00000001EF255/all.txt-2016-02-24 13:09:09 039275 ] neighbours are\n",
      "[16     /.cheats/cmd/logScripts/8F00000001EF255/all.tx...\n",
      "6      /.cheats/cmd/logScripts/7DB2001901F31C0/all.tx...\n",
      "118    /.cheats/cmd/logScripts/8400001901F5EA2/all.tx...\n",
      "Name: name, dtype: object]\n",
      "================================================================================\n",
      "\n",
      "\n",
      "================================================================================\n",
      "For [/.cheats/cmd/logScripts/7D600019044623A/all.txt-2011-07-19 18:22:03 111327 ] neighbours are\n",
      "[17     /.cheats/cmd/logScripts/7D600019044623A/all.tx...\n",
      "18     /.cheats/cmd/logScripts/7D600019044623A/all.tx...\n",
      "117    /.cheats/cmd/logScripts/DF8005400001C5C/all.tx...\n",
      "Name: name, dtype: object]\n",
      "================================================================================\n",
      "\n",
      "\n",
      "================================================================================\n",
      "For [/.cheats/cmd/logScripts/7D600019044623A/all.txt-2011-07-21 15:17:23 177080 ] neighbours are\n",
      "[18    /.cheats/cmd/logScripts/7D600019044623A/all.tx...\n",
      "45    /.cheats/cmd/logScripts/7F80000001E3A3C/all.tx...\n",
      "46    /.cheats/cmd/logScripts/7F80000001E3A3C/all.tx...\n",
      "Name: name, dtype: object]\n",
      "================================================================================\n",
      "\n",
      "\n",
      "================================================================================\n",
      "For [/.cheats/cmd/logScripts/DF80054000020C5/all.txt-2015-11-11 01:08:19 2014760 ] neighbours are\n",
      "[19     /.cheats/cmd/logScripts/DF80054000020C5/all.tx...\n",
      "114    /.cheats/cmd/logScripts/8480301906EF24F/all.tx...\n",
      "20     /.cheats/cmd/logScripts/DF80054000020C5/all.tx...\n",
      "Name: name, dtype: object]\n",
      "================================================================================\n",
      "\n",
      "\n"
     ]
    },
    {
     "name": "stderr",
     "output_type": "stream",
     "text": [
      "//anaconda2/lib/python2.7/site-packages/sklearn/utils/validation.py:386: DeprecationWarning: Passing 1d arrays as data is deprecated in 0.17 and willraise ValueError in 0.19. Reshape your data either using X.reshape(-1, 1) if your data has a single feature or X.reshape(1, -1) if it contains a single sample.\n",
      "  DeprecationWarning)\n",
      "//anaconda2/lib/python2.7/site-packages/sklearn/utils/validation.py:386: DeprecationWarning: Passing 1d arrays as data is deprecated in 0.17 and willraise ValueError in 0.19. Reshape your data either using X.reshape(-1, 1) if your data has a single feature or X.reshape(1, -1) if it contains a single sample.\n",
      "  DeprecationWarning)\n",
      "//anaconda2/lib/python2.7/site-packages/sklearn/utils/validation.py:386: DeprecationWarning: Passing 1d arrays as data is deprecated in 0.17 and willraise ValueError in 0.19. Reshape your data either using X.reshape(-1, 1) if your data has a single feature or X.reshape(1, -1) if it contains a single sample.\n",
      "  DeprecationWarning)\n",
      "//anaconda2/lib/python2.7/site-packages/sklearn/utils/validation.py:386: DeprecationWarning: Passing 1d arrays as data is deprecated in 0.17 and willraise ValueError in 0.19. Reshape your data either using X.reshape(-1, 1) if your data has a single feature or X.reshape(1, -1) if it contains a single sample.\n",
      "  DeprecationWarning)\n",
      "//anaconda2/lib/python2.7/site-packages/sklearn/utils/validation.py:386: DeprecationWarning: Passing 1d arrays as data is deprecated in 0.17 and willraise ValueError in 0.19. Reshape your data either using X.reshape(-1, 1) if your data has a single feature or X.reshape(1, -1) if it contains a single sample.\n",
      "  DeprecationWarning)\n",
      "//anaconda2/lib/python2.7/site-packages/sklearn/utils/validation.py:386: DeprecationWarning: Passing 1d arrays as data is deprecated in 0.17 and willraise ValueError in 0.19. Reshape your data either using X.reshape(-1, 1) if your data has a single feature or X.reshape(1, -1) if it contains a single sample.\n",
      "  DeprecationWarning)\n",
      "//anaconda2/lib/python2.7/site-packages/sklearn/utils/validation.py:386: DeprecationWarning: Passing 1d arrays as data is deprecated in 0.17 and willraise ValueError in 0.19. Reshape your data either using X.reshape(-1, 1) if your data has a single feature or X.reshape(1, -1) if it contains a single sample.\n",
      "  DeprecationWarning)\n"
     ]
    }
   ],
   "source": [
    "from sklearn.neighbors import NearestNeighbors\n",
    "\n",
    "neigh = NearestNeighbors(3, 0.4)\n",
    "neigh.fit(X.A)\n",
    "print neigh.kneighbors(X.A[0],return_distance=True)\n",
    "\n",
    "for i in range(4,20):\n",
    "    #print \"prediction neighbour of ::: {}\".format(people.loc[i]['name'])\n",
    "    #print (\"is\",neigh.kneighbors(X.A[0]))\n",
    "    print (\"=\" *80)\n",
    "    print \"For [{}] neighbours are\".format(people.loc[i]['name'])\n",
    "    print [people.loc[j]['name'] for j in neigh.kneighbors(X.A[i],return_distance=False)]\n",
    "    print (\"=\" *80)\n",
    "    print (\"\\n\")\n",
    "\n"
   ]
  },
  {
   "cell_type": "code",
   "execution_count": null,
   "metadata": {
    "collapsed": true
   },
   "outputs": [],
   "source": []
  },
  {
   "cell_type": "code",
   "execution_count": null,
   "metadata": {
    "collapsed": true
   },
   "outputs": [],
   "source": []
  }
 ],
 "metadata": {
  "anaconda-cloud": {},
  "kernelspec": {
   "display_name": "Python [Root]",
   "language": "python",
   "name": "Python [Root]"
  },
  "language_info": {
   "codemirror_mode": {
    "name": "ipython",
    "version": 3
   },
   "file_extension": ".py",
   "mimetype": "text/x-python",
   "name": "python",
   "nbconvert_exporter": "python",
   "pygments_lexer": "ipython3",
   "version": "3.5.2"
  }
 },
 "nbformat": 4,
 "nbformat_minor": 0
}
